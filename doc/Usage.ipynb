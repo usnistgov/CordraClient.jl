{
 "cells": [
  {
   "cell_type": "markdown",
   "metadata": {},
   "source": [
    "# Using CordraClient\n",
    "\n",
    "Using CordraClient to manipulate data on a Cordra digital content management system.\n",
    "\n",
    "This notebook assumes that you have an instance of the Cordra server running on your computer. The basic test instance of Cordra available for download on the [cordra.org](https://cordra.org) website will work. You will need to specify the `admin` user password in the script to create new users and to upload schemas."
   ]
  },
  {
   "cell_type": "code",
   "execution_count": 1,
   "metadata": {},
   "outputs": [],
   "source": [
    "using CordraClient  # Load the library"
   ]
  },
  {
   "cell_type": "markdown",
   "metadata": {},
   "source": [
    "Let's create a couple new users and a group as the `admin` and then use these users and group in the examples below.\n",
    "\n",
    "Using this `open(...)`syntax, the connection is automatically closed at the end of the `do` block."
   ]
  },
  {
   "cell_type": "code",
   "execution_count": 10,
   "metadata": {},
   "outputs": [
    {
     "data": {
      "text/plain": [
       "CordraObject(test/testGroup)"
      ]
     },
     "metadata": {},
     "output_type": "display_data"
    }
   ],
   "source": [
    "open(CordraConnection, \"https://localhost:8443\", \"admin\", \"XXXXX\", verify=false) do cc\n",
    "    create_object(cc, Dict(\"username\" => \"test\", \"password\" => \"thisisatestpassword\"), \"User\", suffix=\"testuser\")\n",
    "    create_object(cc, Dict(\"username\" => \"test2\", \"password\" => \"thisisatestpassword\"), \"User\", suffix=\"test2user\")\n",
    "    create_object(cc, Dict(\"groupName\" => \"group1\", \"description\" => \"A test group\"), \"Group\", suffix=\"testGroup\")\n",
    "end"
   ]
  },
  {
   "cell_type": "markdown",
   "metadata": {},
   "source": [
    "Alternatively, we can use this syntax to create a `CordraConnection` which we have to explicitly `close(...)` later.\n",
    "\n",
    "A `CordraConnection` represents an authorized connection to interact with a Cordra database server.  The method takes a URL, in this case an instance of Cordra running on the same computer.  We specify the username and password we just created above.  Test instances of the Cordra server don't have the necessary certificates so we need to use `verfify=false`.  This is not necessary on full, properly hosted instances of Cordra."
   ]
  },
  {
   "cell_type": "code",
   "execution_count": 64,
   "metadata": {},
   "outputs": [
    {
     "data": {
      "text/plain": [
       "CordraConnection(https://localhost:8443/test as test)"
      ]
     },
     "metadata": {},
     "output_type": "display_data"
    }
   ],
   "source": [
    "cc = CordraConnection(\"https://localhost:8443\", \"test\",\"thisisatestpassword\", verify=false)"
   ]
  },
  {
   "cell_type": "markdown",
   "metadata": {},
   "source": [
    "With a connection we can create digital objects on the Cordra server using the `create_object(...)` method.  These objects will be recorded on the Cordra server and will remain accessible even after disconnecting from and reconnecting to the server or after the server has been shut down and restarted.\n",
    "\n",
    "A minimalist Cordra object consists of data (created from a `Dict{String, Any}()`) fitting a schema (in this case `Document`.)  We will discuss the data and schema later."
   ]
  },
  {
   "cell_type": "code",
   "execution_count": 3,
   "metadata": {},
   "outputs": [
    {
     "data": {
      "text/plain": [
       "CordraObject(test/3655439b62435056f7b4)"
      ]
     },
     "metadata": {},
     "output_type": "display_data"
    }
   ],
   "source": [
    "obj = create_object(cc, Dict(\"name\"=>\"item 1\", \"description\"=>\"This is item 1.\"), \"Document\")"
   ]
  },
  {
   "cell_type": "markdown",
   "metadata": {},
   "source": [
    "The data has been written to the Cordra server and a local copy is returned.\n",
    "\n",
    "We can examine the properties of the local copy."
   ]
  },
  {
   "cell_type": "code",
   "execution_count": 4,
   "metadata": {},
   "outputs": [
    {
     "data": {
      "text/plain": [
       "Dict{String, Any} with 3 entries:\n",
       "  \"name\"        => \"item 1\"\n",
       "  \"id\"          => \"test/3655439b62435056f7b4\"\n",
       "  \"description\" => \"This is item 1.\""
      ]
     },
     "metadata": {},
     "output_type": "display_data"
    }
   ],
   "source": [
    "content(obj)"
   ]
  },
  {
   "cell_type": "markdown",
   "metadata": {},
   "source": [
    "The `content(obj)` is just the data plus an automatically generated `id` which Cordra uses to reference the object on the server."
   ]
  },
  {
   "cell_type": "code",
   "execution_count": 5,
   "metadata": {},
   "outputs": [
    {
     "data": {
      "text/plain": [
       "Dict{String, Vector{String}} with 2 entries:\n",
       "  \"writers\" => [\"test\"]\n",
       "  \"readers\" => [\"test\"]"
      ]
     },
     "metadata": {},
     "output_type": "display_data"
    }
   ],
   "source": [
    "CordraClient.acl(obj)"
   ]
  },
  {
   "cell_type": "markdown",
   "metadata": {},
   "source": [
    "By default, the `CordraClient` creates all objects with read and write permissions for the current user.  If we want to create an object which additional users or user groups can access, we add an optional 'acls' argument to the `create_object(...)` method."
   ]
  },
  {
   "cell_type": "code",
   "execution_count": 11,
   "metadata": {},
   "outputs": [
    {
     "data": {
      "text/plain": [
       "CordraObject(test/1e3e472767180174848f)"
      ]
     },
     "metadata": {},
     "output_type": "display_data"
    }
   ],
   "source": [
    "obj = create_object(cc, Dict(\"name\"=>\"item 2\", \"description\"=>\"This is item 2.\"), \"Document\", acls = Dict(\"readers\" => [ \"test\", \"test2\", \"Group\"], \"writers\"=>[\"test\"]))"
   ]
  },
  {
   "cell_type": "code",
   "execution_count": 12,
   "metadata": {},
   "outputs": [
    {
     "data": {
      "text/plain": [
       "Dict{String, Vector{String}} with 2 entries:\n",
       "  \"writers\" => [\"test\"]\n",
       "  \"readers\" => [\"test\", \"test2\", \"group1\"]"
      ]
     },
     "metadata": {},
     "output_type": "display_data"
    }
   ],
   "source": [
    "acl(obj)"
   ]
  },
  {
   "cell_type": "markdown",
   "metadata": {},
   "source": [
    "There is also additional `metadata` written with the object."
   ]
  },
  {
   "cell_type": "code",
   "execution_count": 14,
   "metadata": {},
   "outputs": [
    {
     "data": {
      "text/plain": [
       "Dict{String, Any} with 5 entries:\n",
       "  \"createdBy\"  => \"test/testuser\"\n",
       "  \"txnId\"      => 1657499323418005\n",
       "  \"modifiedBy\" => \"test/testuser\"\n",
       "  \"createdOn\"  => 1657499323418\n",
       "  \"modifiedOn\" => 1657499323418"
      ]
     },
     "metadata": {},
     "output_type": "display_data"
    }
   ],
   "source": [
    "metadata(obj)"
   ]
  },
  {
   "cell_type": "code",
   "execution_count": 67,
   "metadata": {},
   "outputs": [
    {
     "data": {
      "text/plain": [
       "2022-07-11T00:28:43.418"
      ]
     },
     "metadata": {},
     "output_type": "display_data"
    }
   ],
   "source": [
    "using Dates\n",
    "unix2datetime(metadata(obj)[\"createdOn\"]/1000.0)"
   ]
  },
  {
   "cell_type": "markdown",
   "metadata": {},
   "source": [
    "We can also ask about the `schema` that the objects data conforms to.  Where by conform, we mean that the data has the necessary fields defined by a JSON schema like those found at [schema.org](https://schema.org/).\n",
    "\n",
    "`Document` is a very simple schema.  It requires only two fields, \"name\" and \"description\".  Our minimalist objects provide these fields and no others. We could have added additional fields with other data items in `Document` or we could use a more sophisticated schema that matchs our digital object.\n",
    "\n",
    " [schema.org](https://schema.org/) has many useful schemas and [Bioschemas.org](https://bioschemas.org/index.html) has many biological science-related schemas. You can even create your own schema.\n",
    "\n",
    " Regardless of where the schema comes from, you must register them with your instance of Cordra before you use the schema.  Out of the box, Cordra comes with schemas for \"User\", \"Group\" and \"Document\".  We actually used the \"User\" and \"Group\" schemas above to create two new Cordra users and a user group."
   ]
  },
  {
   "cell_type": "code",
   "execution_count": 16,
   "metadata": {},
   "outputs": [
    {
     "data": {
      "text/plain": [
       "\"Document\""
      ]
     },
     "metadata": {},
     "output_type": "display_data"
    }
   ],
   "source": [
    "schema_type(obj)"
   ]
  },
  {
   "cell_type": "markdown",
   "metadata": {},
   "source": [
    "Data properties can be heirarchical, as is demonstrated in this simple example. "
   ]
  },
  {
   "cell_type": "code",
   "execution_count": 18,
   "metadata": {},
   "outputs": [
    {
     "data": {
      "text/plain": [
       "Dict{String, Any} with 4 entries:\n",
       "  \"name\"        => \"item3\"\n",
       "  \"properties\"  => Dict{String, Any}(\"color\"=>\"blue\", \"size\"=>10)\n",
       "  \"id\"          => \"test/9f06640aaa0cb709334f\"\n",
       "  \"description\" => \"a little more complex\""
      ]
     },
     "metadata": {},
     "output_type": "display_data"
    }
   ],
   "source": [
    "obj = create_object(cc, Dict(\"name\"=>\"item3\", \"description\"=>\"a little more complex\", \"properties\" => Dict(\"size\"=>10, \"color\"=>\"blue\")), \"Document\")\n",
    "content(obj)"
   ]
  },
  {
   "cell_type": "markdown",
   "metadata": {},
   "source": [
    "Now we can use these properties to search for objects on the Cordra server instance.  A simple `query(...)` requests those objects with name that starts with `item`."
   ]
  },
  {
   "cell_type": "code",
   "execution_count": 20,
   "metadata": {},
   "outputs": [
    {
     "data": {
      "text/plain": [
       "4-element Vector{CordraClient.CordraObject}:\n",
       " CordraObject(test/496c7d553e1de7908c0d)\n",
       " CordraObject(test/3655439b62435056f7b4)\n",
       " CordraObject(test/9f06640aaa0cb709334f)\n",
       " CordraObject(test/1e3e472767180174848f)"
      ]
     },
     "metadata": {},
     "output_type": "display_data"
    }
   ],
   "source": [
    "objs = query(cc, \"/name:item*\")"
   ]
  },
  {
   "cell_type": "code",
   "execution_count": 22,
   "metadata": {},
   "outputs": [
    {
     "data": {
      "text/plain": [
       "Dict{String, Any} with 4 entries:\n",
       "  \"name\"        => \"item3\"\n",
       "  \"properties\"  => Dict{String, Any}(\"color\"=>\"blue\", \"size\"=>10)\n",
       "  \"id\"          => \"test/9f06640aaa0cb709334f\"\n",
       "  \"description\" => \"a little more complex\""
      ]
     },
     "metadata": {},
     "output_type": "display_data"
    }
   ],
   "source": [
    "content(objs[3])"
   ]
  },
  {
   "cell_type": "markdown",
   "metadata": {},
   "source": [
    "Alternatively, we could search a little deeper into the object."
   ]
  },
  {
   "cell_type": "code",
   "execution_count": 24,
   "metadata": {},
   "outputs": [
    {
     "name": "stdout",
     "output_type": "stream",
     "text": [
      "objs = CordraClient.CordraObject[CordraObject(test/9f06640aaa0cb709334f)]\n"
     ]
    },
    {
     "data": {
      "text/plain": [
       "Dict{String, Any} with 4 entries:\n",
       "  \"name\"        => \"item3\"\n",
       "  \"properties\"  => Dict{String, Any}(\"color\"=>\"blue\", \"size\"=>10)\n",
       "  \"id\"          => \"test/9f06640aaa0cb709334f\"\n",
       "  \"description\" => \"a little more complex\""
      ]
     },
     "metadata": {},
     "output_type": "display_data"
    }
   ],
   "source": [
    "objs = query(cc, \"/properties/color:blue\")\n",
    "@show objs\n",
    "content(objs[1])"
   ]
  },
  {
   "cell_type": "markdown",
   "metadata": {},
   "source": [
    "Or even use `AND` and `OR` to join simple search queries into more precise ones."
   ]
  },
  {
   "cell_type": "code",
   "execution_count": 27,
   "metadata": {},
   "outputs": [
    {
     "name": "stdout",
     "output_type": "stream",
     "text": [
      "objs = CordraClient.CordraObject[CordraObject(test/9f06640aaa0cb709334f)]\n"
     ]
    },
    {
     "data": {
      "text/plain": [
       "Dict{String, Any} with 4 entries:\n",
       "  \"name\"        => \"item3\"\n",
       "  \"properties\"  => Dict{String, Any}(\"color\"=>\"blue\", \"size\"=>10)\n",
       "  \"id\"          => \"test/9f06640aaa0cb709334f\"\n",
       "  \"description\" => \"a little more complex\""
      ]
     },
     "metadata": {},
     "output_type": "display_data"
    }
   ],
   "source": [
    "objs = query(cc, \"/properties/color:blue AND /properties/size:10\")\n",
    "@show objs\n",
    "content(objs[1])"
   ]
  },
  {
   "cell_type": "markdown",
   "metadata": {},
   "source": [
    "Thus it is possible to add digital items to Cordra and retreive them.  We could use options in the `create_object(...)` method to give the object a friendly `id` but realistically, this doesn't scale well as more objects are added.  Best to just let Cordra assign the `id` and use the `query(...)` method to find the objects."
   ]
  },
  {
   "cell_type": "markdown",
   "metadata": {},
   "source": [
    "### Payloads\n",
    "All this is very well and good, however, we often want to store large, arbitrarily formatted items in Cordra.  This is where payloads come in. "
   ]
  },
  {
   "cell_type": "code",
   "execution_count": 32,
   "metadata": {},
   "outputs": [
    {
     "data": {
      "text/plain": [
       "CordraObject(test/dbb96e411b0d5d5d2847)"
      ]
     },
     "metadata": {},
     "output_type": "display_data"
    }
   ],
   "source": [
    "using DataFrames, CSV\n",
    "df = DataFrame(A=[1,3,5],B=[\"One\",\"Three\",\"Five\"],C=[\"Uno\",\"Dos\",\"Tres\"])\n",
    "fn = tempname()\n",
    "CSV.write(fn, df)\n",
    "obj = create_object(cc, Dict(\"name\"=>\"item4\",\"description\"=>\"item with payload\"), \"Document\", payloads=payload(\"payload1\", fn, \"text/csv\"))"
   ]
  },
  {
   "cell_type": "markdown",
   "metadata": {},
   "source": [
    "Now, if we check the object, we find that it has a payload attached."
   ]
  },
  {
   "cell_type": "code",
   "execution_count": 33,
   "metadata": {},
   "outputs": [
    {
     "data": {
      "text/plain": [
       "1-element Vector{String}:\n",
       " \"payload1\""
      ]
     },
     "metadata": {},
     "output_type": "display_data"
    }
   ],
   "source": [
    "payload_names(obj)"
   ]
  },
  {
   "cell_type": "markdown",
   "metadata": {},
   "source": [
    "We can read the payload back using various mechanisms.  The most basic mechanism returns the payload as a `UInt8[]` which we convert into a string."
   ]
  },
  {
   "cell_type": "code",
   "execution_count": 36,
   "metadata": {},
   "outputs": [
    {
     "data": {
      "text/plain": [
       "\"A,B,C\\n1,One,Uno\\n3,Three,Dos\\n5,Five,Tres\\n\""
      ]
     },
     "metadata": {},
     "output_type": "display_data"
    }
   ],
   "source": [
    "String(read_payload(obj,\"payload1\"))"
   ]
  },
  {
   "cell_type": "markdown",
   "metadata": {},
   "source": [
    "Export the payload to a file."
   ]
  },
  {
   "cell_type": "code",
   "execution_count": 47,
   "metadata": {},
   "outputs": [
    {
     "data": {
      "text/plain": [
       "\"C:\\\\Users\\\\nicho\\\\AppData\\\\Local\\\\Temp\\\\jl_dkadkFIK27\""
      ]
     },
     "metadata": {},
     "output_type": "display_data"
    }
   ],
   "source": [
    "fn = export_payload(obj, \"payload1\", tempname())"
   ]
  },
  {
   "cell_type": "markdown",
   "metadata": {},
   "source": [
    "Process the payload as an IO stream"
   ]
  },
  {
   "cell_type": "code",
   "execution_count": 48,
   "metadata": {},
   "outputs": [
    {
     "data": {
      "text/html": [
       "<div class=\"data-frame\"><p>3 rows × 3 columns</p><table class=\"data-frame\"><thead><tr><th></th><th>A</th><th>B</th><th>C</th></tr><tr><th></th><th title=\"Int64\">Int64</th><th title=\"String7\">String7</th><th title=\"String7\">String7</th></tr></thead><tbody><tr><th>1</th><td>1</td><td>One</td><td>Uno</td></tr><tr><th>2</th><td>3</td><td>Three</td><td>Dos</td></tr><tr><th>3</th><td>5</td><td>Five</td><td>Tres</td></tr></tbody></table></div>"
      ],
      "text/latex": [
       "\\begin{tabular}{r|ccc}\n",
       "\t& A & B & C\\\\\n",
       "\t\\hline\n",
       "\t& Int64 & String7 & String7\\\\\n",
       "\t\\hline\n",
       "\t1 & 1 & One & Uno \\\\\n",
       "\t2 & 3 & Three & Dos \\\\\n",
       "\t3 & 5 & Five & Tres \\\\\n",
       "\\end{tabular}\n"
      ],
      "text/plain": [
       "\u001b[1m3×3 DataFrame\u001b[0m\n",
       "\u001b[1m Row \u001b[0m│\u001b[1m A     \u001b[0m\u001b[1m B       \u001b[0m\u001b[1m C       \u001b[0m\n",
       "\u001b[1m     \u001b[0m│\u001b[90m Int64 \u001b[0m\u001b[90m String7 \u001b[0m\u001b[90m String7 \u001b[0m\n",
       "─────┼─────────────────────────\n",
       "   1 │     1  One      Uno\n",
       "   2 │     3  Three    Dos\n",
       "   3 │     5  Five     Tres"
      ]
     },
     "metadata": {},
     "output_type": "display_data"
    }
   ],
   "source": [
    "df = process_payload(obj, \"payload1\") do io\n",
    "    CSV.read(io, DataFrame)\n",
    "end"
   ]
  },
  {
   "cell_type": "markdown",
   "metadata": {},
   "source": [
    "### Schemas \n",
    "Schemas define the minimal structure of the data.  Up to this point, we've just used the default, minimal `Document` schema which requires only two entries `name` and `description`.\n",
    "\n",
    "Schemas are defined in JSON-LD aka JSON for Linked Data.  A good place to find out about schemas is [schema.org](https://schema.org) which defines schemas for many common things.  It would seem to be a good idea to follow the recommendations of schema.org whenever possible but you are welcome to create your own schemas using the syntax and tools provided at the [JSON-LD](https://json-ld.org) site.\n",
    "\n",
    "\n",
    "Here is an example of a much more complex schema taken from this [example.](https://www.cordra.org/documentation/extensions/person-registry.html)  It builds on the general structure on the [Person page](https://schema.org/Person) at schema.org.\n",
    "  "
   ]
  },
  {
   "cell_type": "markdown",
   "metadata": {},
   "source": [
    "```\n",
    "{\n",
    "  \"type\": \"object\",\n",
    "  \"title\": \"Person\",\n",
    "  \"required\": [\n",
    "    \"id\",\n",
    "    \"name\",\n",
    "    \"birth\",\n",
    "    \"gender\",\n",
    "    \"address\",\n",
    "    \"issuedIds\"\n",
    "  ],\n",
    "  \"properties\": {\n",
    "    \"id\": {\n",
    "      \"type\": \"string\",\n",
    "      \"cordra\": {\n",
    "        \"type\": {\n",
    "          \"autoGeneratedField\": \"handle\"\n",
    "        }\n",
    "      }\n",
    "    },\n",
    "    \"name\": {\n",
    "      \"type\": \"object\",\n",
    "      \"title\": \"Name\",\n",
    "      \"required\": [\n",
    "        \"first\",\n",
    "        \"last\"\n",
    "      ],\n",
    "      \"properties\": {\n",
    "        \"last\": {\n",
    "          \"type\": \"string\",\n",
    "          \"title\": \"Surname\",\n",
    "          \"cordra\": {\n",
    "            \"preview\": {\n",
    "              \"showInPreview\": true,\n",
    "              \"isPrimary\": true\n",
    "            }\n",
    "          }\n",
    "        },\n",
    "        \"first\": {\n",
    "          \"type\": \"string\",\n",
    "          \"title\": \"First Name\",\n",
    "          \"cordra\": {\n",
    "            \"preview\": {\n",
    "              \"showInPreview\": true\n",
    "            }\n",
    "          }\n",
    "        },\n",
    "        \"middle\": {\n",
    "          \"type\": \"string\",\n",
    "          \"title\": \"Middle Name\",\n",
    "          \"cordra\": {\n",
    "            \"preview\": {\n",
    "              \"showInPreview\": true\n",
    "            }\n",
    "          }\n",
    "        }\n",
    "      }\n",
    "    },\n",
    "    \"birth\": {\n",
    "      \"type\": \"object\",\n",
    "      \"title\": \"Birth Information\",\n",
    "      \"required\": [\n",
    "        \"date\"\n",
    "      ],\n",
    "      \"properties\": {\n",
    "        \"date\": {\n",
    "          \"type\": \"string\",\n",
    "          \"pattern\": \"^[1-2]{1}[0-9]{7}$\",\n",
    "          \"title\": \"Date of Birth (YYYYMMDD)\"\n",
    "        },\n",
    "        \"certificate\": {\n",
    "          \"type\": \"object\",\n",
    "          \"title\": \"Birth Certificate\",\n",
    "          \"required\": [\n",
    "            \"id\",\n",
    "            \"source\"\n",
    "          ],\n",
    "          \"properties\": {\n",
    "            \"id\": {\n",
    "              \"type\": \"string\",\n",
    "              \"title\": \"Certificate ID\"\n",
    "            },\n",
    "            \"source\": {\n",
    "              \"type\": \"string\",\n",
    "              \"title\": \"Certificate Source\"\n",
    "            }\n",
    "          }\n",
    "        }\n",
    "      }\n",
    "    },\n",
    "    \"death\": {\n",
    "      \"type\": \"object\",\n",
    "      \"title\": \"Death Information\",\n",
    "      \"required\": [\n",
    "        \"date\"\n",
    "      ],\n",
    "      \"properties\": {\n",
    "        \"date\": {\n",
    "          \"type\": \"string\",\n",
    "          \"pattern\": \"^[1-2]{1}[0-9]{7}$\",\n",
    "          \"title\": \"Date of Death (YYYYMMDD)\"\n",
    "        },\n",
    "        \"certificate\": {\n",
    "          \"type\": \"object\",\n",
    "          \"title\": \"Death Certificate\",\n",
    "          \"required\": [\n",
    "            \"id\",\n",
    "            \"source\"\n",
    "          ],\n",
    "          \"properties\": {\n",
    "            \"id\": {\n",
    "              \"type\": \"string\",\n",
    "              \"title\": \"Certificate ID\"\n",
    "            },\n",
    "            \"source\": {\n",
    "              \"type\": \"string\",\n",
    "              \"title\": \"Certificate Source\"\n",
    "            }\n",
    "          }\n",
    "        }\n",
    "      }\n",
    "    },\n",
    "    \"gender\": {\n",
    "      \"type\": \"string\",\n",
    "      \"title\": \"Gender\",\n",
    "      \"enum\": [\n",
    "        \"female\",\n",
    "        \"male\",\n",
    "        \"other\"\n",
    "      ]\n",
    "    },\n",
    "    \"address\": {\n",
    "      \"type\": \"object\",\n",
    "      \"title\": \"Address\",\n",
    "      \"required\": [\n",
    "        \"line1\",\n",
    "        \"line2\"\n",
    "      ],\n",
    "      \"properties\": {\n",
    "        \"line1\": {\n",
    "          \"type\": \"string\",\n",
    "          \"title\": \"Line 1\"\n",
    "        },\n",
    "        \"line2\": {\n",
    "          \"type\": \"string\",\n",
    "          \"title\": \"Line 2\"\n",
    "        },\n",
    "        \"line3\": {\n",
    "          \"type\": \"string\",\n",
    "          \"title\": \"Line 3\"\n",
    "        }\n",
    "      }\n",
    "    },\n",
    "    \"issuedIds\": {\n",
    "      \"type\": \"array\",\n",
    "      \"title\": \"Government Issued Ids\",\n",
    "      \"format\": \"table\",\n",
    "      \"uniqueItems\": true,\n",
    "      \"minItems\": 1,\n",
    "      \"items\": {\n",
    "        \"type\": \"object\",\n",
    "        \"required\": [\n",
    "          \"type\",\n",
    "          \"id\"\n",
    "        ],\n",
    "        \"properties\": {\n",
    "          \"id\": {\n",
    "            \"type\": \"string\",\n",
    "            \"title\": \"ID\"\n",
    "          },\n",
    "          \"type\": {\n",
    "            \"type\": \"string\",\n",
    "            \"title\": \"ID Type\"\n",
    "          }\n",
    "        }\n",
    "      }\n",
    "    },\n",
    "    \"fingerprints\": {\n",
    "      \"type\": \"object\",\n",
    "      \"title\": \"Finger Print External Reference\",\n",
    "      \"required\": [\n",
    "        \"id\",\n",
    "        \"source\",\n",
    "        \"lastCapturedDate\"\n",
    "      ],\n",
    "      \"properties\": {\n",
    "        \"id\": {\n",
    "          \"type\": \"string\",\n",
    "          \"title\": \"Certificate ID\"\n",
    "        },\n",
    "        \"source\": {\n",
    "          \"type\": \"string\",\n",
    "          \"title\": \"Certificate Source\"\n",
    "        },\n",
    "        \"lastCapturedDate\": {\n",
    "          \"type\": \"string\",\n",
    "          \"pattern\": \"^[1-2]{1}[0-9]{7}$\",\n",
    "          \"title\": \"Last Captured Date (YYYYMMDD)\"\n",
    "        }\n",
    "      }\n",
    "    },\n",
    "    \"recordCreatedOn\": {\n",
    "      \"type\": \"string\",\n",
    "      \"title\": \"Record Creation Date\",\n",
    "      \"cordra\": {\n",
    "        \"type\": {\n",
    "          \"autoGeneratedField\": \"creationDate\"\n",
    "        }\n",
    "      }\n",
    "    },\n",
    "    \"recordModifiedOn\": {\n",
    "      \"type\": \"string\",\n",
    "      \"title\": \"Record Modification Date\",\n",
    "      \"cordra\": {\n",
    "        \"type\": {\n",
    "          \"autoGeneratedField\": \"modificationDate\"\n",
    "        }\n",
    "      }\n",
    "    },\n",
    "    \"recordCreatedBy\": {\n",
    "      \"type\": \"string\",\n",
    "      \"title\": \"Record Created By\",\n",
    "      \"cordra\": {\n",
    "        \"type\": {\n",
    "          \"autoGeneratedField\": \"createdBy\"\n",
    "        }\n",
    "      }\n",
    "    },\n",
    "    \"recordModifiedBy\": {\n",
    "      \"type\": \"string\",\n",
    "      \"title\": \"Record Modified By\",\n",
    "      \"cordra\": {\n",
    "        \"type\": {\n",
    "          \"autoGeneratedField\": \"modifiedBy\"\n",
    "        }\n",
    "      }\n",
    "    }\n",
    "  }\n",
    "}\n",
    "```"
   ]
  },
  {
   "cell_type": "markdown",
   "metadata": {},
   "source": [
    "Let's create a simple schema for a generic `Sample`-type."
   ]
  },
  {
   "cell_type": "code",
   "execution_count": 59,
   "metadata": {},
   "outputs": [
    {
     "data": {
      "text/plain": [
       "\"{\\n  \\\"type\\\": \\\"object\\\",\\n  \\\"title\\\": \\\"Sample\\\",\\n  \\\"required\\\": [\\n    \\\"name\\\",\\n    \\\"description\\\",\\n    \\\"preparation\\\",\\n    \\\"prepared_by\\\"\\n  ],\\n  \\\"properties\\\": {\\n    \\\"id\\\": {\\n      \\\"type\\\": \\\"string\\\",\\n      \\\"cordra\\\": {\\n        \\\"type\\\": {\\n          \\\"autoGeneratedField\\\": \\\"handle\\\"\\n        \" ⋯ 61 bytes ⋯ \"\\\"title\\\": \\\"Name\\\"\\n    },\\n    \\\"description\\\": {\\n      \\\"type\\\": \\\"string\\\",\\n      \\\"title\\\": \\\"Description\\\"\\n    },\\n    \\\"preparation\\\": {\\n      \\\"type\\\": \\\"string\\\",\\n      \\\"title\\\": \\\"Preperation\\\"\\n    },\\n    \\\"prepared_by\\\": {\\n      \\\"type\\\": \\\"string\\\",\\n      \\\"title\\\": \\\"Prepared by\\\"\\n    }\\n  }\\n}\\n\""
      ]
     },
     "metadata": {},
     "output_type": "display_data"
    }
   ],
   "source": [
    "sample_schema = \"\"\"\n",
    "{\n",
    "  \"type\": \"object\",\n",
    "  \"title\": \"Sample\",\n",
    "  \"required\": [\n",
    "    \"name\",\n",
    "    \"description\",\n",
    "    \"preparation\",\n",
    "    \"prepared_by\"\n",
    "  ],\n",
    "  \"properties\": {\n",
    "    \"id\": {\n",
    "      \"type\": \"string\",\n",
    "      \"cordra\": {\n",
    "        \"type\": {\n",
    "          \"autoGeneratedField\": \"handle\"\n",
    "        }\n",
    "      }\n",
    "    },\n",
    "    \"name\": {\n",
    "      \"type\": \"string\",\n",
    "      \"title\": \"Name\"\n",
    "    },\n",
    "    \"description\": {\n",
    "      \"type\": \"string\",\n",
    "      \"title\": \"Description\"\n",
    "    },\n",
    "    \"preparation\": {\n",
    "      \"type\": \"string\",\n",
    "      \"title\": \"Preperation\"\n",
    "    },\n",
    "    \"prepared_by\": {\n",
    "      \"type\": \"string\",\n",
    "      \"title\": \"Prepared by\"\n",
    "    }\n",
    "  }\n",
    "}\n",
    "\"\"\""
   ]
  },
  {
   "cell_type": "markdown",
   "metadata": {},
   "source": [
    "You must be an `admin` to create a Schema."
   ]
  },
  {
   "cell_type": "code",
   "execution_count": 58,
   "metadata": {},
   "outputs": [
    {
     "data": {
      "text/plain": [
       "true"
      ]
     },
     "metadata": {},
     "output_type": "display_data"
    }
   ],
   "source": [
    "open(CordraConnection, \"https://localhost:8443\", \"admin\",\"XXXXX\",verify=false) do cc2\n",
    "    create_schema(cc2, \"Sample\", JSON.parse(sample_schema))\n",
    "end"
   ]
  },
  {
   "cell_type": "markdown",
   "metadata": {},
   "source": [
    "Let's first create a valid sample."
   ]
  },
  {
   "cell_type": "code",
   "execution_count": 60,
   "metadata": {},
   "outputs": [
    {
     "data": {
      "text/plain": [
       "CordraObject(test/381fa72e2d2d99a316dc)"
      ]
     },
     "metadata": {},
     "output_type": "display_data"
    }
   ],
   "source": [
    "samp = create_object(cc, Dict(\"name\"=>\"fish\",\"description\"=>\"A fish\",\"preparation\"=>\"sauted\",\"prepared_by\"=>\"The Swedish chief.\"),\"Sample\")"
   ]
  },
  {
   "cell_type": "markdown",
   "metadata": {},
   "source": [
    "Then an invalid one."
   ]
  },
  {
   "cell_type": "code",
   "execution_count": 62,
   "metadata": {},
   "outputs": [
    {
     "ename": "ErrorException",
     "evalue": "400 Bad Request. : object has missing required properties ([\"prepared_by\"])",
     "output_type": "error",
     "traceback": [
      "400 Bad Request. : object has missing required properties ([\"prepared_by\"])\n",
      "\n",
      "Stacktrace:\n",
      "  [1] error(s::String)\n",
      "    @ Base .\\error.jl:33\n",
      "  [2] CordraClient.CordraResponse(response::HTTP.Messages.Response)\n",
      "    @ CordraClient C:\\Users\\nicho\\.julia\\dev\\CordraClient\\src\\CordraClient.jl:181\n",
      "  [3] create_object(cc::CordraConnection, obj_json::Dict{String, String}, schema_type::String; handle::Nothing, suffix::Nothing, dryRun::Bool, payloads::Nothing, acls::Nothing)\n",
      "    @ CordraClient C:\\Users\\nicho\\.julia\\dev\\CordraClient\\src\\CordraClient.jl:414\n",
      "  [4] create_object(cc::CordraConnection, obj_json::Dict{String, String}, schema_type::String)\n",
      "    @ CordraClient C:\\Users\\nicho\\.julia\\dev\\CordraClient\\src\\CordraClient.jl:388\n",
      "  [5] top-level scope\n",
      "    @ c:\\Users\\nicho\\.julia\\dev\\CordraClient\\doc\\Usage.ipynb:1\n",
      "  [6] eval\n",
      "    @ .\\boot.jl:373 [inlined]\n",
      "  [7] include_string(mapexpr::typeof(REPL.softscope), mod::Module, code::String, filename::String)\n",
      "    @ Base .\\loading.jl:1196\n",
      "  [8] #invokelatest#2\n",
      "    @ .\\essentials.jl:716 [inlined]\n",
      "  [9] invokelatest\n",
      "    @ .\\essentials.jl:714 [inlined]\n",
      " [10] (::VSCodeServer.var\"#164#165\"{VSCodeServer.NotebookRunCellArguments, String})()\n",
      "    @ VSCodeServer c:\\Users\\nicho\\.vscode\\extensions\\julialang.language-julia-1.6.24\\scripts\\packages\\VSCodeServer\\src\\serve_notebook.jl:19\n",
      " [11] withpath(f::VSCodeServer.var\"#164#165\"{VSCodeServer.NotebookRunCellArguments, String}, path::String)\n",
      "    @ VSCodeServer c:\\Users\\nicho\\.vscode\\extensions\\julialang.language-julia-1.6.24\\scripts\\packages\\VSCodeServer\\src\\repl.jl:184\n",
      " [12] notebook_runcell_request(conn::VSCodeServer.JSONRPC.JSONRPCEndpoint{Base.PipeEndpoint, Base.PipeEndpoint}, params::VSCodeServer.NotebookRunCellArguments)\n",
      "    @ VSCodeServer c:\\Users\\nicho\\.vscode\\extensions\\julialang.language-julia-1.6.24\\scripts\\packages\\VSCodeServer\\src\\serve_notebook.jl:13\n",
      " [13] dispatch_msg(x::VSCodeServer.JSONRPC.JSONRPCEndpoint{Base.PipeEndpoint, Base.PipeEndpoint}, dispatcher::VSCodeServer.JSONRPC.MsgDispatcher, msg::Dict{String, Any})\n",
      "    @ VSCodeServer.JSONRPC c:\\Users\\nicho\\.vscode\\extensions\\julialang.language-julia-1.6.24\\scripts\\packages\\JSONRPC\\src\\typed.jl:67\n",
      " [14] serve_notebook(pipename::String, outputchannel_logger::Base.CoreLogging.SimpleLogger; crashreporting_pipename::String)\n",
      "    @ VSCodeServer c:\\Users\\nicho\\.vscode\\extensions\\julialang.language-julia-1.6.24\\scripts\\packages\\VSCodeServer\\src\\serve_notebook.jl:136\n",
      " [15] top-level scope\n",
      "    @ c:\\Users\\nicho\\.vscode\\extensions\\julialang.language-julia-1.6.24\\scripts\\notebook\\notebook.jl:32\n",
      " [16] include(mod::Module, _path::String)\n",
      "    @ Base .\\Base.jl:418\n",
      " [17] exec_options(opts::Base.JLOptions)\n",
      "    @ Base .\\client.jl:292\n",
      " [18] _start()\n",
      "    @ Base .\\client.jl:495"
     ]
    }
   ],
   "source": [
    "create_object(cc, Dict(\"name\"=>\"fowl\",\"description\"=>\"A bird\",\"preparation\"=>\"boiled\"),\"Sample\")"
   ]
  },
  {
   "cell_type": "markdown",
   "metadata": {},
   "source": [
    "It errors helpfully telling us that it is missing a required property `prepared_by.`  Thus schemas can be used to ensure that all the necessary data is associated with an object."
   ]
  },
  {
   "cell_type": "markdown",
   "metadata": {},
   "source": [
    "Finally, we close the connection to the Cordra server."
   ]
  },
  {
   "cell_type": "code",
   "execution_count": 63,
   "metadata": {},
   "outputs": [
    {
     "data": {
      "text/plain": [
       "true"
      ]
     },
     "metadata": {},
     "output_type": "display_data"
    }
   ],
   "source": [
    "close(cc)"
   ]
  }
 ],
 "metadata": {
  "kernelspec": {
   "display_name": "Julia 1.7.3",
   "language": "julia",
   "name": "julia-1.7"
  },
  "language_info": {
   "file_extension": ".jl",
   "mimetype": "application/julia",
   "name": "julia",
   "version": "1.7.3"
  },
  "orig_nbformat": 4
 },
 "nbformat": 4,
 "nbformat_minor": 2
}
